{
  "cells": [
    {
      "cell_type": "markdown",
      "metadata": {},
      "source": [
        "# Домашняя работа №1\n",
        "## Урок 1. Введение в Большие Данные\n",
        "\n",
        "1) Ознакомьтесь / изучите библиотеки:    \n",
        "\n",
        "— https://joblib.readthedocs.io    \n",
        "— https://www.dask.org    \n",
        "— https://www.ray.io    \n",
        "\n",
        "2) Установите Docker (https://docs.docker.com/desktop)    \n",
        " \n",
        "3) Посчитать средний балл фильмов. Подробнее в нотебуке.    \n",
        "\n",
        "Файл для ДЗ во вложении к уроку.    "
      ]
    },
    {
      "cell_type": "code",
      "execution_count": 49,
      "metadata": {},
      "outputs": [],
      "source": [
        "import opendatasets as od\n",
        "import pandas as pd\n",
        "import time\n",
        "import math\n",
        "from pathlib import Path\n",
        "import json\n",
        "from functools import reduce\n",
        "from joblib import Parallel, delayed"
      ]
    },
    {
      "cell_type": "markdown",
      "metadata": {},
      "source": [
        "## Скачиваем датасет\n",
        "Потребуется kaggle ключ для доступа, который сгенерирован на сайте и записан в файл kaggle.json. "
      ]
    },
    {
      "cell_type": "code",
      "execution_count": 50,
      "metadata": {
        "colab": {
          "base_uri": "https://localhost:8080/"
        },
        "id": "qeWSaWkZRFxY",
        "outputId": "5f724ecd-5703-4d2d-fd8d-1188f315f99d"
      },
      "outputs": [
        {
          "name": "stdout",
          "output_type": "stream",
          "text": [
            "Skipping, found downloaded files in \".\\imdb-user-reviews\" (use force=True to force download)\n"
          ]
        }
      ],
      "source": [
        "dataset_path = Path('imdb-user-reviews', 'song_lyrics.csv')\n",
        "if not dataset_path.is_file():\n",
        "    od.download('https://www.kaggle.com/datasets/sadmadlad/imdb-user-reviews')"
      ]
    },
    {
      "cell_type": "markdown",
      "metadata": {
        "id": "jqh_NMwMjfhO"
      },
      "source": [
        "# Домашняя работа"
      ]
    },
    {
      "cell_type": "markdown",
      "metadata": {
        "id": "dSCZYSMrTtEM"
      },
      "source": [
        "Сделайте mapper и reducer, чтобы посчитать среднее и дисперсию оценок за фильм."
      ]
    },
    {
      "cell_type": "markdown",
      "metadata": {
        "id": "g6AlGOz7aws5"
      },
      "source": [
        "Реализация через цикл (предпогаем, что мы не знаем сколько у нас фильмов):"
      ]
    },
    {
      "cell_type": "code",
      "execution_count": 51,
      "metadata": {
        "colab": {
          "base_uri": "https://localhost:8080/"
        },
        "id": "yBhMEH50MCyf",
        "outputId": "c7b71698-ea06-4ef8-929e-95f18e9b3e7e"
      },
      "outputs": [
        {
          "name": "stdout",
          "output_type": "stream",
          "text": [
            "8.03 1.0517128885774865\n",
            "CPU times: total: 0 ns\n",
            "Wall time: 5.98 ms\n"
          ]
        }
      ],
      "source": [
        "%%time\n",
        "n, mean, M2 = 0, 0.0, 0\n",
        "\n",
        "for path in Path('imdb-user-reviews').glob('**/*'):\n",
        "    if path.is_file() and path.suffix == '.json':\n",
        "        with open(path, 'r') as f:\n",
        "            info = json.load(f)\n",
        "        score = float(info['movieIMDbRating'])\n",
        "        n += 1\n",
        "        delta = score - mean\n",
        "        mean += delta / n\n",
        "        M2 += delta * (score - mean)\n",
        "\n",
        "print(mean, (M2 / n) ** (1/2))"
      ]
    },
    {
      "cell_type": "markdown",
      "metadata": {
        "id": "Ic09ccPLbMUR"
      },
      "source": [
        "На основе этого кода соберите mapper и reducer:"
      ]
    },
    {
      "cell_type": "code",
      "execution_count": 52,
      "metadata": {
        "id": "27ix083ng2kO"
      },
      "outputs": [],
      "source": [
        "def mapper(path):\n",
        "    if path.is_file() and path.suffix == '.json':\n",
        "        with open(path, 'r') as f:\n",
        "            info = json.load(f)\n",
        "        score = float(info['movieIMDbRating'])\n",
        "        return (score, )\n",
        "        \n",
        "\n",
        "\n",
        "def reducer(score_data1, score_data2):\n",
        "    if score_data1 is None and score_data2 is None:\n",
        "        return None\n",
        "    elif score_data1 is None:\n",
        "        return score_data2\n",
        "    elif score_data2 is None:\n",
        "        return score_data1\n",
        "    else:\n",
        "        scores = []\n",
        "        if len(score_data1) == 1:\n",
        "            n, mean, M2 = 0, 0.0, 0\n",
        "            scores.append(score_data1[0])\n",
        "        else:\n",
        "            n, mean, M2 = score_data1\n",
        "        scores.append(score_data2[0])\n",
        "        for score in scores:\n",
        "            n += 1\n",
        "            delta = score - mean\n",
        "            mean += delta / n\n",
        "            M2 += delta * (score - mean)\n",
        "    return n, mean, M2"
      ]
    },
    {
      "cell_type": "code",
      "execution_count": 53,
      "metadata": {
        "id": "aBa-fXxFg40_"
      },
      "outputs": [
        {
          "name": "stdout",
          "output_type": "stream",
          "text": [
            "8.03 1.0517128885774865\n",
            "CPU times: total: 0 ns\n",
            "Wall time: 5.98 ms\n"
          ]
        }
      ],
      "source": [
        "%%time\n",
        "n, mean, M2 = reduce(reducer, map(mapper, Path('imdb-user-reviews').glob('**/*')))\n",
        "print(mean, (M2 / n) ** (1/2))"
      ]
    },
    {
      "cell_type": "markdown",
      "metadata": {},
      "source": [
        "## Распараллеливаем данные:\n",
        "По аналогии с методами изученными на семинаре."
      ]
    },
    {
      "cell_type": "code",
      "execution_count": 55,
      "metadata": {},
      "outputs": [
        {
          "name": "stdout",
          "output_type": "stream",
          "text": [
            "8.03 1.0517128885774865\n",
            "CPU times: total: 15.6 ms\n",
            "Wall time: 22.7 ms\n"
          ]
        }
      ],
      "source": [
        "%%time\n",
        "N=2\n",
        "data_path = Path('imdb-user-reviews').glob('**/*')  #создаем генератор и разбили данные на 2 части\n",
        "#step 1:\n",
        "mapped = Parallel(n_jobs=N)(delayed(mapper)(path) for path in data_path)\n",
        "#step 2:\n",
        "n, mean, M2 = reduce(reducer, mapped)\n",
        "print(mean, (M2 / n) ** (1/2))\n"
      ]
    }
  ],
  "metadata": {
    "colab": {
      "provenance": []
    },
    "kernelspec": {
      "display_name": "Python 3",
      "name": "python3"
    },
    "language_info": {
      "codemirror_mode": {
        "name": "ipython",
        "version": 3
      },
      "file_extension": ".py",
      "mimetype": "text/x-python",
      "name": "python",
      "nbconvert_exporter": "python",
      "pygments_lexer": "ipython3",
      "version": "3.11.8"
    }
  },
  "nbformat": 4,
  "nbformat_minor": 0
}
